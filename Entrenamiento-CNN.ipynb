{
 "cells": [
  {
   "cell_type": "code",
   "execution_count": 1,
   "id": "3080cd02",
   "metadata": {},
   "outputs": [],
   "source": [
    "import sys\n",
    "import os\n",
    "from tensorflow.python.keras.preprocessing.image import ImageDataGenerator\n",
    "from tensorflow.python.keras import optimizers\n",
    "from tensorflow.python.keras.models import Sequential\n",
    "from tensorflow.python.keras.layers import Dropout, Flatten, Dense, Activation\n",
    "from tensorflow.python.keras.layers import  Convolution2D, MaxPooling2D\n",
    "from tensorflow.python.keras import backend as K"
   ]
  },
  {
   "cell_type": "code",
   "execution_count": 2,
   "id": "982584ba",
   "metadata": {},
   "outputs": [],
   "source": [
    "K.clear_session()"
   ]
  },
  {
   "cell_type": "code",
   "execution_count": 3,
   "id": "e9ff1835",
   "metadata": {},
   "outputs": [],
   "source": [
    "data_validacion = './Ndatos2/validacion/'\n",
    "data_entrenamiento = './Ndatos2/entrenamiento/'"
   ]
  },
  {
   "cell_type": "code",
   "execution_count": 4,
   "id": "1316732b",
   "metadata": {},
   "outputs": [],
   "source": [
    "epocas=100\n",
    "longitud, altura = 100, 100\n",
    "\n",
    "batch_size = 45\n",
    "pasos = 100\n",
    "validation_steps = 25\n",
    "filtrosConv1 = 32\n",
    "filtrosConv2 = 64\n",
    "tamano_filtro1 = (3, 3)\n",
    "tamano_filtro2 = (2, 2)\n",
    "tamano_pool = (2, 2)\n",
    "clases = 2\n",
    "lr = 0.0004"
   ]
  },
  {
   "cell_type": "code",
   "execution_count": 5,
   "id": "f8d0af17",
   "metadata": {},
   "outputs": [],
   "source": [
    "entrenamiento_datagen = ImageDataGenerator(\n",
    "    rescale=1. / 255,\n",
    "    shear_range=0.3,\n",
    "    zoom_range=0.3,\n",
    "    horizontal_flip=True)\n",
    "\n",
    "test_datagen = ImageDataGenerator(rescale=1. / 255)"
   ]
  },
  {
   "cell_type": "code",
   "execution_count": 6,
   "id": "d0dc88a5",
   "metadata": {},
   "outputs": [
    {
     "name": "stdout",
     "output_type": "stream",
     "text": [
      "Found 4576 images belonging to 2 classes.\n",
      "Found 1145 images belonging to 2 classes.\n"
     ]
    }
   ],
   "source": [
    "entrenamiento_generador = entrenamiento_datagen.flow_from_directory(\n",
    "    data_entrenamiento,\n",
    "    target_size=(altura, longitud),\n",
    "    batch_size=batch_size,\n",
    "    class_mode='categorical')\n",
    "\n",
    "validacion_generador = test_datagen.flow_from_directory(\n",
    "    data_validacion,\n",
    "    target_size=(altura, longitud),\n",
    "    batch_size=batch_size,\n",
    "    class_mode='categorical')"
   ]
  },
  {
   "cell_type": "code",
   "execution_count": 7,
   "id": "95fe25d3",
   "metadata": {},
   "outputs": [],
   "source": [
    "from tensorflow.python.keras.layers import Conv2D, BatchNormalization"
   ]
  },
  {
   "cell_type": "code",
   "execution_count": 8,
   "id": "0ffdd017",
   "metadata": {},
   "outputs": [
    {
     "name": "stdout",
     "output_type": "stream",
     "text": [
      "Model: \"sequential\"\n",
      "_________________________________________________________________\n",
      "Layer (type)                 Output Shape              Param #   \n",
      "=================================================================\n",
      "conv2d (Conv2D)              (None, 98, 98, 32)        896       \n",
      "_________________________________________________________________\n",
      "batch_normalization (BatchNo (None, 98, 98, 32)        128       \n",
      "_________________________________________________________________\n",
      "max_pooling2d (MaxPooling2D) (None, 49, 49, 32)        0         \n",
      "_________________________________________________________________\n",
      "dropout (Dropout)            (None, 49, 49, 32)        0         \n",
      "_________________________________________________________________\n",
      "conv2d_1 (Conv2D)            (None, 47, 47, 64)        18496     \n",
      "_________________________________________________________________\n",
      "batch_normalization_1 (Batch (None, 47, 47, 64)        256       \n",
      "_________________________________________________________________\n",
      "max_pooling2d_1 (MaxPooling2 (None, 23, 23, 64)        0         \n",
      "_________________________________________________________________\n",
      "dropout_1 (Dropout)          (None, 23, 23, 64)        0         \n",
      "_________________________________________________________________\n",
      "conv2d_2 (Conv2D)            (None, 21, 21, 128)       73856     \n",
      "_________________________________________________________________\n",
      "batch_normalization_2 (Batch (None, 21, 21, 128)       512       \n",
      "_________________________________________________________________\n",
      "max_pooling2d_2 (MaxPooling2 (None, 10, 10, 128)       0         \n",
      "_________________________________________________________________\n",
      "dropout_2 (Dropout)          (None, 10, 10, 128)       0         \n",
      "_________________________________________________________________\n",
      "flatten (Flatten)            (None, 12800)             0         \n",
      "_________________________________________________________________\n",
      "dense (Dense)                (None, 512)               6554112   \n",
      "_________________________________________________________________\n",
      "batch_normalization_3 (Batch (None, 512)               2048      \n",
      "_________________________________________________________________\n",
      "dropout_3 (Dropout)          (None, 512)               0         \n",
      "_________________________________________________________________\n",
      "dense_1 (Dense)              (None, 2)                 1026      \n",
      "=================================================================\n",
      "Total params: 6,651,330\n",
      "Trainable params: 6,649,858\n",
      "Non-trainable params: 1,472\n",
      "_________________________________________________________________\n"
     ]
    }
   ],
   "source": [
    "model = Sequential()\n",
    "\n",
    "model.add(Conv2D(32, (3, 3), activation='relu', input_shape=(longitud, altura, 3)))\n",
    "model.add(BatchNormalization())\n",
    "model.add(MaxPooling2D(pool_size=(2, 2)))\n",
    "model.add(Dropout(0.25))\n",
    "\n",
    "model.add(Conv2D(64, (3, 3), activation='relu'))\n",
    "model.add(BatchNormalization())\n",
    "model.add(MaxPooling2D(pool_size=(2, 2)))\n",
    "model.add(Dropout(0.25))\n",
    "\n",
    "model.add(Conv2D(128, (3, 3), activation='relu'))\n",
    "model.add(BatchNormalization())\n",
    "model.add(MaxPooling2D(pool_size=(2, 2)))\n",
    "model.add(Dropout(0.25))\n",
    "\n",
    "model.add(Flatten())\n",
    "model.add(Dense(512, activation='relu'))\n",
    "model.add(BatchNormalization())\n",
    "model.add(Dropout(0.5))\n",
    "model.add(Dense(2, activation='softmax')) # 2 because we have cat and dog classes\n",
    "\n",
    "model.compile(loss='categorical_crossentropy', optimizer='rmsprop', metrics=['accuracy'])\n",
    "\n",
    "model.summary()"
   ]
  },
  {
   "cell_type": "code",
   "execution_count": 9,
   "id": "e1a3eaed",
   "metadata": {},
   "outputs": [],
   "source": [
    "from tensorflow.python.keras.callbacks import EarlyStopping, ReduceLROnPlateau"
   ]
  },
  {
   "cell_type": "code",
   "execution_count": 10,
   "id": "d1d5641a",
   "metadata": {},
   "outputs": [],
   "source": [
    "earlystop = EarlyStopping(patience=10)\n",
    "\n",
    "learning_rate_reduction = ReduceLROnPlateau(monitor='val_accuracy', \n",
    "                                            patience=2, \n",
    "                                            verbose=1, \n",
    "                                            factor=0.5, \n",
    "                                            min_lr=0.00001)\n",
    "\n",
    "callbacks = [earlystop, learning_rate_reduction]"
   ]
  },
  {
   "cell_type": "code",
   "execution_count": 11,
   "id": "bb21dad7",
   "metadata": {},
   "outputs": [
    {
     "name": "stdout",
     "output_type": "stream",
     "text": [
      "Epoch 1/100\n",
      "100/100 [==============================] - 24s 209ms/step - loss: 1.0927 - accuracy: 0.6879 - val_loss: 1.5450 - val_accuracy: 0.5404\n",
      "Epoch 2/100\n",
      "100/100 [==============================] - 19s 191ms/step - loss: 0.5295 - accuracy: 0.8087 - val_loss: 0.5139 - val_accuracy: 0.7609\n",
      "Epoch 3/100\n",
      "100/100 [==============================] - 19s 194ms/step - loss: 0.3578 - accuracy: 0.8531 - val_loss: 0.6087 - val_accuracy: 0.7129\n",
      "Epoch 4/100\n",
      "100/100 [==============================] - 19s 190ms/step - loss: 0.3185 - accuracy: 0.8727 - val_loss: 0.4977 - val_accuracy: 0.7964\n",
      "Epoch 5/100\n",
      "100/100 [==============================] - 19s 190ms/step - loss: 0.2659 - accuracy: 0.8939 - val_loss: 0.5961 - val_accuracy: 0.8062\n",
      "Epoch 6/100\n",
      "100/100 [==============================] - 19s 189ms/step - loss: 0.2361 - accuracy: 0.9100 - val_loss: 0.5383 - val_accuracy: 0.8124\n",
      "Epoch 7/100\n",
      "100/100 [==============================] - 19s 189ms/step - loss: 0.2154 - accuracy: 0.9093 - val_loss: 0.7157 - val_accuracy: 0.7751\n",
      "Epoch 8/100\n",
      "100/100 [==============================] - 19s 190ms/step - loss: 0.2135 - accuracy: 0.9188 - val_loss: 0.2889 - val_accuracy: 0.8898\n",
      "Epoch 9/100\n",
      "100/100 [==============================] - 19s 190ms/step - loss: 0.1924 - accuracy: 0.9203 - val_loss: 1.3203 - val_accuracy: 0.6640\n",
      "Epoch 10/100\n",
      "100/100 [==============================] - 19s 190ms/step - loss: 0.1988 - accuracy: 0.9203 - val_loss: 0.3400 - val_accuracy: 0.8853\n",
      "\n",
      "Epoch 00010: ReduceLROnPlateau reducing learning rate to 0.0005000000237487257.\n",
      "Epoch 11/100\n",
      "100/100 [==============================] - 19s 190ms/step - loss: 0.1688 - accuracy: 0.9356 - val_loss: 0.3859 - val_accuracy: 0.8791\n",
      "Epoch 12/100\n",
      "100/100 [==============================] - 19s 194ms/step - loss: 0.1316 - accuracy: 0.9511 - val_loss: 0.1358 - val_accuracy: 0.9467\n",
      "Epoch 13/100\n",
      "100/100 [==============================] - 19s 193ms/step - loss: 0.1571 - accuracy: 0.9423 - val_loss: 0.2196 - val_accuracy: 0.9244\n",
      "Epoch 14/100\n",
      "100/100 [==============================] - 19s 190ms/step - loss: 0.1258 - accuracy: 0.9463 - val_loss: 0.1633 - val_accuracy: 0.9396\n",
      "\n",
      "Epoch 00014: ReduceLROnPlateau reducing learning rate to 0.0002500000118743628.\n",
      "Epoch 15/100\n",
      "100/100 [==============================] - 19s 191ms/step - loss: 0.1123 - accuracy: 0.9582 - val_loss: 0.3714 - val_accuracy: 0.8916\n",
      "Epoch 16/100\n",
      "100/100 [==============================] - 19s 191ms/step - loss: 0.0990 - accuracy: 0.9612 - val_loss: 0.1938 - val_accuracy: 0.9342\n",
      "\n",
      "Epoch 00016: ReduceLROnPlateau reducing learning rate to 0.0001250000059371814.\n",
      "Epoch 17/100\n",
      "100/100 [==============================] - 20s 197ms/step - loss: 0.0967 - accuracy: 0.9595 - val_loss: 0.4571 - val_accuracy: 0.8764\n",
      "Epoch 18/100\n",
      "100/100 [==============================] - 20s 198ms/step - loss: 0.1001 - accuracy: 0.9644 - val_loss: 0.2309 - val_accuracy: 0.9289\n",
      "\n",
      "Epoch 00018: ReduceLROnPlateau reducing learning rate to 6.25000029685907e-05.\n",
      "Epoch 19/100\n",
      "100/100 [==============================] - 20s 195ms/step - loss: 0.0948 - accuracy: 0.9623 - val_loss: 0.2646 - val_accuracy: 0.9191\n",
      "Epoch 20/100\n",
      "100/100 [==============================] - 20s 197ms/step - loss: 0.0814 - accuracy: 0.9691 - val_loss: 0.2198 - val_accuracy: 0.9324\n",
      "\n",
      "Epoch 00020: ReduceLROnPlateau reducing learning rate to 3.125000148429535e-05.\n",
      "Epoch 21/100\n",
      "100/100 [==============================] - 20s 200ms/step - loss: 0.0859 - accuracy: 0.9693 - val_loss: 0.2359 - val_accuracy: 0.9280\n",
      "Epoch 22/100\n",
      "100/100 [==============================] - 20s 197ms/step - loss: 0.0847 - accuracy: 0.9670 - val_loss: 0.2033 - val_accuracy: 0.9360\n",
      "\n",
      "Epoch 00022: ReduceLROnPlateau reducing learning rate to 1.5625000742147677e-05.\n"
     ]
    },
    {
     "data": {
      "text/plain": [
       "<tensorflow.python.keras.callbacks.History at 0x24185399a00>"
      ]
     },
     "execution_count": 11,
     "metadata": {},
     "output_type": "execute_result"
    }
   ],
   "source": [
    "model.fit(\n",
    "    entrenamiento_generador,\n",
    "    steps_per_epoch=pasos,\n",
    "    epochs=epocas,\n",
    "    validation_data=validacion_generador,\n",
    "    validation_steps=validation_steps,\n",
    "    callbacks=callbacks\n",
    "    )"
   ]
  },
  {
   "cell_type": "code",
   "execution_count": 10,
   "id": "650bb8be",
   "metadata": {},
   "outputs": [],
   "source": [
    "target_dir = './modeloCaballoGallina/'\n",
    "if not os.path.exists(target_dir):\n",
    "  os.mkdir(target_dir)\n",
    "model.save('./modeloCaballoGallina/modelo.h5')\n",
    "model.save_weights('./modeloCaballoGallina/pesos.h5')"
   ]
  }
 ],
 "metadata": {
  "kernelspec": {
   "display_name": "E-GPU",
   "language": "python",
   "name": "e-gpu"
  },
  "language_info": {
   "codemirror_mode": {
    "name": "ipython",
    "version": 3
   },
   "file_extension": ".py",
   "mimetype": "text/x-python",
   "name": "python",
   "nbconvert_exporter": "python",
   "pygments_lexer": "ipython3",
   "version": "3.8.8"
  },
  "latex_envs": {
   "LaTeX_envs_menu_present": true,
   "autoclose": false,
   "autocomplete": true,
   "bibliofile": "biblio.bib",
   "cite_by": "apalike",
   "current_citInitial": 1,
   "eqLabelWithNumbers": true,
   "eqNumInitial": 1,
   "hotkeys": {
    "equation": "Ctrl-E",
    "itemize": "Ctrl-I"
   },
   "labels_anchors": false,
   "latex_user_defs": false,
   "report_style_numbering": false,
   "user_envs_cfg": false
  }
 },
 "nbformat": 4,
 "nbformat_minor": 5
}
